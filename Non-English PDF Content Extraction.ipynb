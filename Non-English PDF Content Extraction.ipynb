{
 "cells": [
  {
   "cell_type": "code",
   "execution_count": 1,
   "id": "481bc451",
   "metadata": {},
   "outputs": [],
   "source": [
    "import pypdfium2 as pdfium\n",
    "import backoff\n",
    "import asyncio\n",
    "import os\n",
    "import base64\n",
    "from io import BytesIO\n",
    "import pprint\n",
    "\n",
    "from IPython.display import Image, display\n",
    "\n",
    "from typing import List\n",
    "from typing_extensions import TypedDict\n",
    "\n",
    "from openai import OpenAIError\n",
    "from openai import AsyncOpenAI\n",
    "\n",
    "from langchain_openai import ChatOpenAI\n",
    "from langchain_core.output_parsers import JsonOutputParser\n",
    "from langchain_core.prompts import PromptTemplate\n",
    "\n",
    "from typing_extensions import TypedDict\n",
    "from typing import List\n",
    "\n",
    "from langgraph.graph import START, END, StateGraph, MessagesState\n",
    "from langchain_core.runnables import RunnablePassthrough"
   ]
  },
  {
   "cell_type": "code",
   "execution_count": 2,
   "id": "4de5120e",
   "metadata": {},
   "outputs": [],
   "source": [
    "MODEL = \"gpt-4o-2024-08-06\"\n",
    "baseurl = \"\"\n",
    "apikey = \"\"\n",
    "\n",
    "os.environ[\"OPENAI_API_BASE\"] = baseurl\n",
    "os.environ[\"OPENAI_API_KEY\"] = apikey\n",
    "\n",
    "clienta = AsyncOpenAI(api_key=apikey,  base_url=baseurl)"
   ]
  },
  {
   "cell_type": "code",
   "execution_count": 3,
   "id": "31ee3531",
   "metadata": {},
   "outputs": [],
   "source": [
    "#https://www.pondhouse-data.com/blog/document-extraction-with-gpt4o\n",
    "\n",
    "@backoff.on_exception(backoff.expo, OpenAIError)\n",
    "async def parse_page_with_gpt(base64_image: str) -> str:\n",
    "    messages=[\n",
    "        {\n",
    "            \"role\": \"system\",\n",
    "            \"content\": \"\"\"\n",
    "            \n",
    "            You are an OCR expert.\n",
    "\n",
    "            1. Extract all content images and ensure that all content from the images is captured.\n",
    "            2. Translate the result into English.\n",
    "            3. Return the result in a structured JSON format without any additional explanation.\n",
    "\n",
    "            \"\"\"\n",
    "        },\n",
    "        {\n",
    "            \"role\": \"user\",\n",
    "            \"content\": [\n",
    "                {\"type\": \"text\", \"text\": \"Return all content\"},\n",
    "                {\n",
    "                    \"type\": \"image_url\",\n",
    "                    \"image_url\": {\n",
    "                        \"url\": f\"data:image/jpeg;base64,{base64_image}\",\n",
    "                        \"detail\": \"high\"\n",
    "                    },\n",
    "                },\n",
    "            ],\n",
    "        }\n",
    "    ]\n",
    "    response = await clienta.chat.completions.create(\n",
    "        model=MODEL,\n",
    "        messages=messages,\n",
    "        temperature=0,\n",
    "        max_tokens=4096,\n",
    "    )\n",
    "    return response.choices[0].message.content or \"\""
   ]
  },
  {
   "cell_type": "code",
   "execution_count": 4,
   "id": "de5389c1",
   "metadata": {},
   "outputs": [],
   "source": [
    "from IPython.display import display, Image, HTML\n",
    "\n",
    "async def document_analysis(filename: str) -> str:\n",
    "    \"\"\"\n",
    "    Document Understanding\n",
    "\n",
    "    Args:\n",
    "        filename: pdf filename str\n",
    "    \"\"\"\n",
    "\n",
    "    pdf = pdfium.PdfDocument(filename)\n",
    "    images = []\n",
    "    for i in range(len(pdf)):\n",
    "        page = pdf[i]\n",
    "        image = page.render(scale=4).to_pil()\n",
    "        buffered = BytesIO()\n",
    "        image.save(buffered, format=\"JPEG\")\n",
    "        img_byte = buffered.getvalue()\n",
    "        img_base64 = base64.b64encode(img_byte).decode(\"utf-8\")\n",
    "        images.append(img_base64)\n",
    "\n",
    "    text_of_pages = await asyncio.gather(*[parse_page_with_gpt(image) for image in images])\n",
    "    #print(text_of_pages)\n",
    "    \n",
    "    results = []\n",
    "\n",
    "    extracted_texts = [doc for doc in text_of_pages]\n",
    "\n",
    "    for text in extracted_texts:\n",
    "        cleaned_content_json = text.strip('```json\\n').strip('')\n",
    "        results.append(cleaned_content_json)\n",
    "        \n",
    "    return results"
   ]
  },
  {
   "cell_type": "code",
   "execution_count": 5,
   "id": "e3554329",
   "metadata": {},
   "outputs": [
    {
     "data": {
      "text/plain": [
       "['{\\n  \"receipt\": {\\n    \"no_samb\": \"MD4246\",\\n    \"customer_name\": \"M.SUBRIN\",\\n    \"address\": \"BT.BELANG, MUARADUA\",\\n    \"tariff_group\": \"3B\",\\n    \"administration_fee\": \"10,000\",\\n    \"material\": \"0\",\\n    \"installment\": \"0\",\\n    \"minimum_cubic\": \"20 M3\",\\n    \"total_rp_cubic\": \"234,726\",\\n    \"total_bill\": \"244,726\",\\n    \"admin\": \"2,500\",\\n    \"total_payment\": \"247,226\",\\n    \"total_payment_in_words\": \"DUA RATUS EMPAT PULUH TUJUH RIBU DUA RATUS DUA PULUH ENAM RUPIAH\",\\n    \"billing_month\": \"JUNI 2020\",\\n    \"initial_stand\": \"660\",\\n    \"final_stand\": \"724\",\\n    \"total_usage\": \"64 M3\",\\n    \"penalty\": \"0\",\\n    \"date\": \"13-07-2020 14:17:21\",\\n    \"officer\": \"KRTN\",\\n    \"note\": \"Bukti Pembayaran ini adalah SAH, jika sudah dibubuhi cap PDAM TIRTA SAKA SELABUNG MUARADUA.\"\\n  }\\n}']"
      ]
     },
     "execution_count": 5,
     "metadata": {},
     "output_type": "execute_result"
    }
   ],
   "source": [
    "docs_list = await document_analysis(\"ID.jpg.pdf\")\n",
    "docs_list"
   ]
  },
  {
   "cell_type": "code",
   "execution_count": 6,
   "id": "56bf545f",
   "metadata": {},
   "outputs": [],
   "source": [
    "llm = ChatOpenAI(model=\"gpt-4o\")"
   ]
  },
  {
   "cell_type": "code",
   "execution_count": 7,
   "id": "f3b5f18e",
   "metadata": {},
   "outputs": [
    {
     "name": "stdout",
     "output_type": "stream",
     "text": [
      "{'q': 'what is the total payment?', 'fn': 'ID.jpg.pdf'}\n"
     ]
    }
   ],
   "source": [
    "rag_prompt = PromptTemplate(\n",
    "    template=\"\"\"\n",
    "    You are an assistant for question-answering tasks. \n",
    "\n",
    "    Your answer should be the question from the user and the filename from the user's question in JSON format.\n",
    "    \n",
    "    Example:\n",
    "    {{\n",
    "        'q': 'what is the total amount?',\n",
    "        'fn': 'abcd.pdf'\n",
    "    }}\n",
    "    \n",
    "    QUESTION: {question} \\n\n",
    "    Answer:\n",
    "   \n",
    "    \"\"\",\n",
    "    input_variables=[\"question\"],\n",
    ")\n",
    "\n",
    "rag_prompt_chain = rag_prompt | llm | JsonOutputParser()\n",
    "QUESTION = \"\"\"what is the total payment from filename: ID.jpg.pdf?\"\"\"\n",
    "result = rag_prompt_chain.invoke({\"question\": QUESTION})\n",
    "print(result)"
   ]
  },
  {
   "cell_type": "code",
   "execution_count": 8,
   "id": "27a59d89",
   "metadata": {},
   "outputs": [],
   "source": [
    "rag_chain = (\n",
    "    {\"question\": RunnablePassthrough()}\n",
    "    | rag_prompt\n",
    "    | llm\n",
    "    | JsonOutputParser()\n",
    ")"
   ]
  },
  {
   "cell_type": "code",
   "execution_count": 9,
   "id": "92b03b78",
   "metadata": {},
   "outputs": [
    {
     "data": {
      "text/plain": [
       "{'q': 'what is the total payment?', 'fn': 'ID.pdf'}"
      ]
     },
     "execution_count": 9,
     "metadata": {},
     "output_type": "execute_result"
    }
   ],
   "source": [
    "question = \"what is the total payment from ID.pdf?\"\n",
    "response_str = rag_chain.invoke(question)\n",
    "response_str"
   ]
  },
  {
   "cell_type": "code",
   "execution_count": 10,
   "id": "9ea7c1c4",
   "metadata": {},
   "outputs": [
    {
     "name": "stdout",
     "output_type": "stream",
     "text": [
      "ID.pdf\n",
      "what is the total payment?\n"
     ]
    }
   ],
   "source": [
    "filename = response_str.get(\"fn\")\n",
    "question = response_str.get(\"q\")\n",
    "\n",
    "print(filename)\n",
    "print(question)"
   ]
  },
  {
   "cell_type": "code",
   "execution_count": 11,
   "id": "223bed17",
   "metadata": {},
   "outputs": [
    {
     "name": "stdout",
     "output_type": "stream",
     "text": [
      "{'total_payment': '247,226'}\n"
     ]
    }
   ],
   "source": [
    "question = \"what is the total payment from ID.jpg.pdf?\"\n",
    "\n",
    "response_str = rag_chain.invoke(question)\n",
    "filename = response_str.get(\"fn\")\n",
    "question = response_str.get(\"q\")\n",
    "\n",
    "QUESTION = question\n",
    "CONTEXT =  await document_analysis(filename)\n",
    "\n",
    "rag_prompt = PromptTemplate(\n",
    "    template=\"\"\"\n",
    "    You are an assistant for question-answering tasks. \n",
    "    Use the following pieces of retrieved context to answer the question. \n",
    "    If you don't know the answer, just say that you don't know.\n",
    "    Keep the answer concise.\n",
    "    Return in JSON\n",
    "\n",
    "  \n",
    "    QUESTION: {question} \\n\n",
    "    CONTEXT: {context} \\n\n",
    "    Answer:\n",
    "  \n",
    "    \"\"\",\n",
    "    input_variables=[\"question\",\"context\"],\n",
    ")\n",
    "\n",
    "rag_prompt_chain = rag_prompt | llm | JsonOutputParser()\n",
    "result = await rag_prompt_chain.ainvoke({\"question\": QUESTION, \"context\":CONTEXT})\n",
    "print(result)"
   ]
  },
  {
   "cell_type": "code",
   "execution_count": 12,
   "id": "04608aa1",
   "metadata": {},
   "outputs": [],
   "source": [
    "### State\n",
    "class GraphState(TypedDict):\n",
    "    \"\"\"\n",
    "    Represents the state of our graph.\n",
    "    \"\"\"\n",
    "    message : str\n",
    "    results : List[str] # this will now be the RAG results\n",
    "    rag_questions : List[str]"
   ]
  },
  {
   "cell_type": "code",
   "execution_count": 13,
   "id": "bf671fea",
   "metadata": {},
   "outputs": [],
   "source": [
    "async def document_analysis_process(state):\n",
    "    \"\"\"perform document analysis\"\"\"\n",
    "    print(\"---DOCUMENT ANALYSIS---\")\n",
    "    question = state['message']\n",
    "   \n",
    "    print(\"questions: \", question)\n",
    "    response_str = rag_chain.invoke(question)\n",
    "    filename = response_str.get(\"fn\")\n",
    "    question = response_str.get(\"q\")\n",
    "\n",
    "    QUESTION = question\n",
    "    CONTEXT =  await document_analysis(filename)\n",
    "    \n",
    "    rag_prompt = PromptTemplate(\n",
    "        template=\"\"\"\n",
    "        You are an assistant for question-answering tasks. \n",
    "        Use the following pieces of retrieved context to answer the question. \n",
    "        If you don't know the answer, just say that you don't know.\n",
    "        Keep the answer concise.\n",
    "        Return in JSON\n",
    "\n",
    "        QUESTION: {question} \\n\n",
    "        CONTEXT: {context} \\n\n",
    "        Answer:\n",
    "\n",
    "        \"\"\",\n",
    "        input_variables=[\"question\",\"context\"],\n",
    "    )\n",
    "    \n",
    "    rag_prompt_chain = rag_prompt | llm | JsonOutputParser()\n",
    "    rag_results = await rag_prompt_chain.ainvoke({\"question\": QUESTION, \"context\":CONTEXT})\n",
    "\n",
    "    return {\"results\": rag_results, \"rag_questions\": question}"
   ]
  },
  {
   "cell_type": "code",
   "execution_count": 14,
   "id": "e5981952",
   "metadata": {},
   "outputs": [
    {
     "name": "stdout",
     "output_type": "stream",
     "text": [
      "---DOCUMENT ANALYSIS---\n",
      "questions:  what is the total payment from ID.jpg.pdf?\n"
     ]
    },
    {
     "data": {
      "text/plain": [
       "{'results': {'total_payment': '247,226'},\n",
       " 'rag_questions': 'what is the total payment?'}"
      ]
     },
     "execution_count": 14,
     "metadata": {},
     "output_type": "execute_result"
    }
   ],
   "source": [
    "init_state = {\"message\": \"what is the total payment from ID.jpg.pdf?\"}  \n",
    "context_state = await document_analysis_process(init_state) \n",
    "context_state"
   ]
  },
  {
   "cell_type": "code",
   "execution_count": 15,
   "id": "fb2cf6d2",
   "metadata": {},
   "outputs": [],
   "source": [
    "# Define a new graph\n",
    "workflow = StateGraph(GraphState)\n",
    "\n",
    "# Define the nodes we will cycle between\n",
    "workflow.add_node(\"document_analysis_process\", document_analysis_process)  # agent"
   ]
  },
  {
   "cell_type": "code",
   "execution_count": 16,
   "id": "36d7dd1c",
   "metadata": {},
   "outputs": [],
   "source": [
    "workflow.set_entry_point(\"document_analysis_process\")"
   ]
  },
  {
   "cell_type": "code",
   "execution_count": 17,
   "id": "2f67f50f",
   "metadata": {},
   "outputs": [],
   "source": [
    "workflow.add_edge(\"document_analysis_process\", END)"
   ]
  },
  {
   "cell_type": "code",
   "execution_count": 18,
   "id": "ac7ea2cc",
   "metadata": {},
   "outputs": [
    {
     "data": {
      "image/jpeg": "[encoded data removed]",
      "text/plain": [
       "<IPython.core.display.Image object>"
      ]
     },
     "metadata": {},
     "output_type": "display_data"
    }
   ],
   "source": [
    "# Compile\n",
    "graph = workflow.compile()\n",
    "from IPython.display import Image, display\n",
    "try:\n",
    "    display(Image(graph.get_graph(xray=True).draw_mermaid_png()))\n",
    "except Exception:\n",
    "    # This requires some extra dependencies and is optional\n",
    "    pass"
   ]
  },
  {
   "cell_type": "code",
   "execution_count": 19,
   "id": "050c6d8d",
   "metadata": {},
   "outputs": [],
   "source": [
    "message = \"list all content from MM01.jpg.pdf\""
   ]
  },
  {
   "cell_type": "code",
   "execution_count": 20,
   "id": "cbf79ce8",
   "metadata": {},
   "outputs": [
    {
     "name": "stdout",
     "output_type": "stream",
     "text": [
      "---DOCUMENT ANALYSIS---\n",
      "questions:  list all content from MM01.jpg.pdf\n",
      "\"Output from node 'document_analysis_process':\"\n",
      "'---'\n",
      "{ 'rag_questions': 'list all content',\n",
      "  'results': { 'account_number': 'R1230000677',\n",
      "               'breakdown': { '110 x 50': '5500',\n",
      "                              '120 x 50': '6000',\n",
      "                              '125 x 15772': '1971500',\n",
      "                              '35 x 30': '1050',\n",
      "                              '50 x 20': '1000',\n",
      "                              '75 x 25': '1750',\n",
      "                              '90 x 25': '2250'},\n",
      "               'charges': { 'electricity': '1,989,050 Ks',\n",
      "                            'late_fee': '0 Ks',\n",
      "                            'other_fees': '85,800 Ks',\n",
      "                            'outstanding_balance': '0 Ks',\n",
      "                            'service_charge': '5,000 Ks',\n",
      "                            'total_due': '2,079,850 Ks',\n",
      "                            'total_payment': '2,079,850 Ks'},\n",
      "               'consumption': '8426',\n",
      "               'contact': { 'phone1': '09-977275831',\n",
      "                            'phone2': '01-9437030',\n",
      "                            'phone3': '09-5407295',\n",
      "                            'phone4': '09-798333236'},\n",
      "               'current_reading': '8486',\n",
      "               'date': '08-05-2024 12:25:43',\n",
      "               'due_date': '25-05-2024',\n",
      "               'location': 'Htaukkyant',\n",
      "               'meter_number': '00011301',\n",
      "               'period': 'Apr-2024',\n",
      "               'previous_reading': '5042',\n",
      "               'tax': '10%',\n",
      "               'total_amount': '15,972',\n",
      "               'total_cost': '1989050',\n",
      "               'total_units': '15972',\n",
      "               'total_with_tax': '1989050',\n",
      "               'unit_price': '121'}}\n",
      "'\\n---\\n'\n"
     ]
    }
   ],
   "source": [
    "inputs = {\"message\": message}\n",
    "\n",
    "async for output in graph.astream(inputs, stream_mode=\"updates\"):\n",
    "    for key, value in output.items():\n",
    "        pprint.pprint(f\"Output from node '{key}':\")\n",
    "        pprint.pprint(\"---\")\n",
    "        pprint.pprint(value, indent=2, width=80, depth=None)\n",
    "    pprint.pprint(\"\\n---\\n\")"
   ]
  },
  {
   "cell_type": "code",
   "execution_count": 21,
   "id": "42f08b11",
   "metadata": {},
   "outputs": [
    {
     "name": "stdout",
     "output_type": "stream",
     "text": [
      "---DOCUMENT ANALYSIS---\n",
      "questions:  what is the total amount, consumption and unit price from MM01.jpg.pdf ?\n",
      "\"Output from node 'document_analysis_process':\"\n",
      "'---'\n",
      "{ 'rag_questions': 'what is the total amount, consumption and unit price?',\n",
      "  'results': { 'consumption': '121',\n",
      "               'total_amount': '2,079,850 Ks',\n",
      "               'unit_price': '1989050 / 15972'}}\n",
      "'\\n---\\n'\n"
     ]
    }
   ],
   "source": [
    "message = \"what is the total amount, consumption and unit price from MM01.jpg.pdf ?\"\n",
    "\n",
    "inputs = {\"message\": message}\n",
    "\n",
    "async for output in graph.astream(inputs, stream_mode=\"updates\"):\n",
    "    for key, value in output.items():\n",
    "        pprint.pprint(f\"Output from node '{key}':\")\n",
    "        pprint.pprint(\"---\")\n",
    "        pprint.pprint(value, indent=2, width=80, depth=None)\n",
    "    pprint.pprint(\"\\n---\\n\")"
   ]
  },
  {
   "cell_type": "code",
   "execution_count": 22,
   "id": "71bf725c",
   "metadata": {},
   "outputs": [
    {
     "name": "stdout",
     "output_type": "stream",
     "text": [
      "---DOCUMENT ANALYSIS---\n",
      "questions:  what is the total amount, address name of customer and admin fee from ID.jpg.pdf ?\n",
      "\"Output from node 'document_analysis_process':\"\n",
      "'---'\n",
      "{ 'rag_questions': 'what is the total amount, address name of customer and '\n",
      "                   'admin fee',\n",
      "  'results': { 'Admin Fee': '2.500',\n",
      "               'Customer Address': 'BT. BELANG, MUARADUA',\n",
      "               'Total Amount': '247.226'}}\n",
      "'\\n---\\n'\n"
     ]
    }
   ],
   "source": [
    "message = \"what is the total amount, address name of customer and admin fee from ID.jpg.pdf ?\"\n",
    "\n",
    "inputs = {\"message\": message}\n",
    "\n",
    "async for output in graph.astream(inputs, stream_mode=\"updates\"):\n",
    "    for key, value in output.items():\n",
    "        pprint.pprint(f\"Output from node '{key}':\")\n",
    "        pprint.pprint(\"---\")\n",
    "        pprint.pprint(value, indent=2, width=80, depth=None)\n",
    "    pprint.pprint(\"\\n---\\n\")"
   ]
  },
  {
   "cell_type": "code",
   "execution_count": null,
   "id": "25f4ccfa",
   "metadata": {},
   "outputs": [],
   "source": []
  }
 ],
 "metadata": {
  "kernelspec": {
   "display_name": "Python 3 (ipykernel)",
   "language": "python",
   "name": "python3"
  },
  "language_info": {
   "codemirror_mode": {
    "name": "ipython",
    "version": 3
   },
   "file_extension": ".py",
   "mimetype": "text/x-python",
   "name": "python",
   "nbconvert_exporter": "python",
   "pygments_lexer": "ipython3",
   "version": "3.11.4"
  }
 },
 "nbformat": 4,
 "nbformat_minor": 5
}
